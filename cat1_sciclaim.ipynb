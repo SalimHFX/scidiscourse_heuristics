{
 "cells": [
  {
   "cell_type": "code",
   "execution_count": 2,
   "metadata": {
    "collapsed": true
   },
   "outputs": [],
   "source": [
    "import re\n",
    "import pandas as pd\n",
    "from nltk.tokenize import sent_tokenize\n",
    "import en_core_web_sm\n",
    "nlp = en_core_web_sm.load()\n",
    "from tqdm import tqdm\n",
    "tqdm.pandas()"
   ]
  },
  {
   "cell_type": "code",
   "execution_count": 3,
   "outputs": [],
   "source": [
    "tweets = pd.read_csv('../data/tweets.tsv', sep='\\t')"
   ],
   "metadata": {
    "collapsed": false,
    "pycharm": {
     "name": "#%%\n"
    }
   }
  },
  {
   "cell_type": "code",
   "execution_count": 4,
   "outputs": [
    {
     "data": {
      "text/plain": "(True, 'causes', 'twitter causes deafness')"
     },
     "execution_count": 4,
     "metadata": {},
     "output_type": "execute_result"
    }
   ],
   "source": [
    "predicates = ['affect', 'affects',\n",
    "              'cause', 'causes',\n",
    "              'inhibit', 'inhibits',\n",
    "              'prevent', 'prevents',\n",
    "              'treat', 'treats',\n",
    "              'lead to', 'leads to',\n",
    "              'increase', 'increases',\n",
    "              'decrease', 'decreases',\n",
    "              'facilitate', 'facilitates',\n",
    "              'hinder', 'hinders',\n",
    "              'stop', 'stops',\n",
    "              'associated with',\n",
    "              'correlated with',\n",
    "              'enable', 'enables',\n",
    "              'are a',\n",
    "              'need more', 'needs more',\n",
    "              'need less', 'needs less',\n",
    "              'support', 'supports',\n",
    "              'lower', 'lowers',\n",
    "              'promote', 'promotes',\n",
    "              'process of', 'reason for', 'reason why', 'higher than', 'lower than']\n",
    "\n",
    "def contains_arg_relation(tweet_sentence):\n",
    "    for pred in predicates:\n",
    "      if re.match('.*\\s('+pred+')\\s.{2,}', tweet_sentence) is not None:\n",
    "        return pred\n",
    "    return \"\"\n",
    "\n",
    "\n",
    "def is_claim(tweet):\n",
    "  #tweet = 'Researchers found'\n",
    "\n",
    "  tweet = tweet.lower()\n",
    "  pred = contains_arg_relation(tweet)\n",
    "  if pred != \"\":\n",
    "\n",
    "    sentences = sent_tokenize(tweet)\n",
    "\n",
    "    for sent in sentences:\n",
    "      doc = nlp(sent)\n",
    "\n",
    "      if \" \"+pred+\" \" in sent:\n",
    "        tags = [token.tag_ for token in doc]\n",
    "        poss = [token.pos_ for token in doc]\n",
    "        ents = [token.ent_type_ for token in doc]\n",
    "        texts = [token.lower_ for token in doc]\n",
    "\n",
    "        if len(pred.split(\" \")) > 1:\n",
    "          pred_index = texts.index(pred.split(\" \")[0])\n",
    "        else:\n",
    "          pred_index = texts.index(pred)\n",
    "\n",
    "        #if (pred == \"support\" and poss[pred_index] != 'NOUN') or pred != \"support\":\n",
    "        tags_before = tags[:pred_index]\n",
    "        poss_before = poss[:pred_index]\n",
    "        ents_before = ents[:pred_index]\n",
    "\n",
    "        tags_after = tags[pred_index+1:]\n",
    "        poss_after = poss[pred_index+1:]\n",
    "        ents_after = ents[pred_index+1:]\n",
    "\n",
    "        if 'PRP' not in tags_before and 'PRP$' not in tags_before and 'PERSON' not in ents_before and 'NOUN' in poss_before:\n",
    "          if 'PRP' not in tags_after and 'PRP$' not in tags_after and 'PERSON' not in ents_after and 'NOUN' in poss_after:\n",
    "            if \"?\" in sent:\n",
    "              if \" how \" in sent or \"when \" in sent or \"why \" in sent:\n",
    "                return True, 'claim_question', sent\n",
    "              else:\n",
    "                return True, 'question', sent\n",
    "            else:\n",
    "              return True, pred, sent\n",
    "\n",
    "  return False, \"\", \"\"\n",
    "\n",
    "is_claim('Hello its me. Twitter causes deafness')"
   ],
   "metadata": {
    "collapsed": false,
    "pycharm": {
     "name": "#%%\n"
    }
   }
  },
  {
   "cell_type": "code",
   "execution_count": 5,
   "outputs": [
    {
     "name": "stderr",
     "output_type": "stream",
     "text": [
      "100%|██████████| 100000/100000 [00:24<00:00, 4097.39it/s]\n"
     ]
    }
   ],
   "source": [
    "res = tweets['text'].progress_apply(is_claim)\n",
    "res = list(map(list, zip(*res.values)))\n",
    "\n",
    "tweets['is_claim'] = res[0]\n",
    "tweets['claim_pred'] = res[1]\n",
    "tweets['claim_sentence'] = res[2]"
   ],
   "metadata": {
    "collapsed": false,
    "pycharm": {
     "name": "#%%\n"
    }
   }
  },
  {
   "cell_type": "code",
   "execution_count": 6,
   "outputs": [
    {
     "name": "stdout",
     "output_type": "stream",
     "text": [
      "2173                          boredom leads to desperation\n",
      "2583     so very proud of the canberra community that c...\n",
      "2692     learn d laws of the spirit and d fierce winds ...\n",
      "7091     @bdayspring would hate for u to stop political...\n",
      "7250              \"@shaado_9: toothaches are a bitch ☹ ..\"\n",
      "                               ...                        \n",
      "98458      yes amen a superior thread berets are a godsend\n",
      "98504    @realdonaldtrump stop trying to kill the ameri...\n",
      "99146    this 🍊🤡 continues to set the bar lower & lower...\n",
      "99655    delusional to think four seasons would come to...\n",
      "99900    touchdown‼️‼️ @maxgilliam11 finds @steve4six f...\n",
      "Name: claim_sentence, Length: 280, dtype: object\n"
     ]
    }
   ],
   "source": [
    "print(tweets[tweets['is_claim']]['claim_sentence'])"
   ],
   "metadata": {
    "collapsed": false,
    "pycharm": {
     "name": "#%%\n"
    }
   }
  }
 ],
 "metadata": {
  "kernelspec": {
   "display_name": "Python 3",
   "language": "python",
   "name": "python3"
  },
  "language_info": {
   "codemirror_mode": {
    "name": "ipython",
    "version": 2
   },
   "file_extension": ".py",
   "mimetype": "text/x-python",
   "name": "python",
   "nbconvert_exporter": "python",
   "pygments_lexer": "ipython2",
   "version": "2.7.6"
  }
 },
 "nbformat": 4,
 "nbformat_minor": 0
}